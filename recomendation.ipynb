{
 "cells": [
  {
   "cell_type": "code",
   "execution_count": 6,
   "metadata": {},
   "outputs": [],
   "source": [
    "import numpy as np\n",
    "import pandas as pd\n",
    "import os"
   ]
  },
  {
   "cell_type": "markdown",
   "metadata": {},
   "source": [
    "# Dataset:\n",
    "\n",
    "Netflix Price Dataset: https://www.kaggle.com/datasets/netflix-inc/netflix-prize-data"
   ]
  },
  {
   "cell_type": "markdown",
   "metadata": {},
   "source": [
    "# Load Dataset\n",
    "\n",
    "using with open() to open csv file as:\n",
    "1. Deal with letters as À, É, ..., etc.\n",
    "2. Some movies habe multiple titles seperarted by commas."
   ]
  },
  {
   "cell_type": "code",
   "execution_count": 4,
   "metadata": {},
   "outputs": [],
   "source": [
    "movies_df = pd.DataFrame(columns=['id', 'year', 'title'])\n",
    "\n",
    "with open('archive/movie_titles.csv', 'rb') as file:\n",
    "    for l in file.readlines():\n",
    "        line_str = l.decode('utf-8', errors=\"ignore\")\n",
    "        columns = line_str.split(',')\n",
    "        id_val, date_val, title_val = columns[:3]\n",
    "        title_val += ', '.join(columns[3:]).strip()\n",
    "        movies_df = pd.concat([movies_df, pd.DataFrame([{'id':id_val,'year': date_val,'title':title_val}])], ignore_index=True)\n",
    "        \n",
    "movies_df.head(3)\n",
    "\n",
    "movies_df.to_excel(\"movies_data_final.xlsx\")"
   ]
  },
  {
   "cell_type": "markdown",
   "metadata": {},
   "source": [
    "## Merge all user rating into a single CSV"
   ]
  },
  {
   "cell_type": "code",
   "execution_count": 1,
   "metadata": {},
   "outputs": [
    {
     "ename": "SyntaxError",
     "evalue": "invalid syntax (111262274.py, line 6)",
     "output_type": "error",
     "traceback": [
      "\u001b[0;36m  Cell \u001b[0;32mIn[1], line 6\u001b[0;36m\u001b[0m\n\u001b[0;31m    if file in ['combined_data_1.txt']#,'combined_data_2.txt','combined_data_3.txt','combined_data_4.txt','combined_data_4.txt']:\u001b[0m\n\u001b[0m                                      ^\u001b[0m\n\u001b[0;31mSyntaxError\u001b[0m\u001b[0;31m:\u001b[0m invalid syntax\n"
     ]
    }
   ],
   "source": [
    "path = \"/Users/himanshuchuri/Desktop/DataScience/Netflix/archive/\"\n",
    "\n",
    "files = os.listdir(path)\n",
    "\n",
    "for file in files:\n",
    "    if file in ['combined_data_1.txt']#,'combined_data_2.txt','combined_data_3.txt','combined_data_4.txt','combined_data_4.txt']:\n",
    "        with open(path+file) as of:\n",
    "            for f in of.readlines():\n",
    "                if f.endswith(':'):\n",
    "                    print(f)\n"
   ]
  },
  {
   "cell_type": "code",
   "execution_count": null,
   "metadata": {},
   "outputs": [],
   "source": []
  }
 ],
 "metadata": {
  "kernelspec": {
   "display_name": "mlp",
   "language": "python",
   "name": "python3"
  },
  "language_info": {
   "codemirror_mode": {
    "name": "ipython",
    "version": 3
   },
   "file_extension": ".py",
   "mimetype": "text/x-python",
   "name": "python",
   "nbconvert_exporter": "python",
   "pygments_lexer": "ipython3",
   "version": "3.8.18"
  }
 },
 "nbformat": 4,
 "nbformat_minor": 2
}
