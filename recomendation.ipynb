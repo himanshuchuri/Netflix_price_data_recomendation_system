{
 "cells": [
  {
   "cell_type": "code",
   "execution_count": 1,
   "metadata": {},
   "outputs": [],
   "source": [
    "import numpy as np\n",
    "import pandas as pd\n",
    "import os"
   ]
  },
  {
   "cell_type": "markdown",
   "metadata": {},
   "source": [
    "# Dataset:\n",
    "\n",
    "Netflix Price Dataset: https://www.kaggle.com/datasets/netflix-inc/netflix-prize-data"
   ]
  },
  {
   "cell_type": "markdown",
   "metadata": {},
   "source": [
    "# Load Dataset\n",
    "\n",
    "using with open() to open csv file as:\n",
    "1. Deal with letters as À, É, ..., etc.\n",
    "2. Some movies habe multiple titles seperarted by commas."
   ]
  },
  {
   "cell_type": "code",
   "execution_count": 2,
   "metadata": {},
   "outputs": [],
   "source": [
    "movies_df = pd.DataFrame(columns=['id', 'year', 'title'])\n",
    "\n",
    "with open('archive/movie_titles.csv', 'rb') as file:\n",
    "    for l in file.readlines():\n",
    "        line_str = l.decode('utf-8', errors=\"ignore\")\n",
    "        columns = line_str.split(',')\n",
    "        id_val, date_val, title_val = columns[:3]\n",
    "        title_val += ', '.join(columns[3:]).strip()\n",
    "        movies_df = pd.concat([movies_df, pd.DataFrame([{'id':id_val,'year': date_val,'title':title_val}])], ignore_index=True)\n",
    "        \n",
    "movies_df.head(3)\n",
    "\n",
    "movies_df.to_excel(\"movies_data_final.xlsx\")"
   ]
  },
  {
   "cell_type": "markdown",
   "metadata": {},
   "source": [
    "## Merge all user rating into a single CSV"
   ]
  },
  {
   "cell_type": "code",
   "execution_count": 4,
   "metadata": {},
   "outputs": [],
   "source": [
    "path = \"/Users/himanshuchuri/Desktop/DataScience/Netflix/archive/\"\n",
    "\n",
    "ratings = pd.DataFrame(columns=['movie_id','customer_id','rating','date'])\n",
    "\n",
    "movie_id = 0\n",
    "for file in ['combined_data_1.txt','combined_data_2.txt','combined_data_3.txt','combined_data_4.txt','combined_data_4.txt']:\n",
    "    with open(path+file) as of:\n",
    "        for f in of.readlines():\n",
    "            if f.endswith(':\\n'):\n",
    "                movie_id = f[:-2]\n",
    "            else:\n",
    "                cust_id, rating, date = f.split(',')\n",
    "                ratings = pd.concat([ratings, pd.DataFrame([{'movie_id':movie_id,'customer_id':cust_id,'rating':rating,'date':date[:-1]}])], ignore_index=True)\n"
   ]
  },
  {
   "cell_type": "code",
   "execution_count": 22,
   "metadata": {},
   "outputs": [
    {
     "data": {
      "text/html": [
       "<div>\n",
       "<style scoped>\n",
       "    .dataframe tbody tr th:only-of-type {\n",
       "        vertical-align: middle;\n",
       "    }\n",
       "\n",
       "    .dataframe tbody tr th {\n",
       "        vertical-align: top;\n",
       "    }\n",
       "\n",
       "    .dataframe thead th {\n",
       "        text-align: right;\n",
       "    }\n",
       "</style>\n",
       "<table border=\"1\" class=\"dataframe\">\n",
       "  <thead>\n",
       "    <tr style=\"text-align: right;\">\n",
       "      <th></th>\n",
       "      <th>movie_id</th>\n",
       "      <th>customer_id</th>\n",
       "      <th>rating</th>\n",
       "      <th>date</th>\n",
       "    </tr>\n",
       "  </thead>\n",
       "  <tbody>\n",
       "    <tr>\n",
       "      <th>0</th>\n",
       "      <td>1</td>\n",
       "      <td>1488844</td>\n",
       "      <td>3</td>\n",
       "      <td>2005-09-06\\n</td>\n",
       "    </tr>\n",
       "    <tr>\n",
       "      <th>1</th>\n",
       "      <td>1</td>\n",
       "      <td>822109</td>\n",
       "      <td>5</td>\n",
       "      <td>2005-05-13\\n</td>\n",
       "    </tr>\n",
       "    <tr>\n",
       "      <th>2</th>\n",
       "      <td>1</td>\n",
       "      <td>885013</td>\n",
       "      <td>4</td>\n",
       "      <td>2005-10-19\\n</td>\n",
       "    </tr>\n",
       "    <tr>\n",
       "      <th>3</th>\n",
       "      <td>1</td>\n",
       "      <td>30878</td>\n",
       "      <td>4</td>\n",
       "      <td>2005-12-26\\n</td>\n",
       "    </tr>\n",
       "    <tr>\n",
       "      <th>4</th>\n",
       "      <td>1</td>\n",
       "      <td>823519</td>\n",
       "      <td>3</td>\n",
       "      <td>2004-05-03\\n</td>\n",
       "    </tr>\n",
       "    <tr>\n",
       "      <th>...</th>\n",
       "      <td>...</td>\n",
       "      <td>...</td>\n",
       "      <td>...</td>\n",
       "      <td>...</td>\n",
       "    </tr>\n",
       "    <tr>\n",
       "      <th>192410</th>\n",
       "      <td>30</td>\n",
       "      <td>2590717</td>\n",
       "      <td>4</td>\n",
       "      <td>2005-01-05\\n</td>\n",
       "    </tr>\n",
       "    <tr>\n",
       "      <th>192411</th>\n",
       "      <td>30</td>\n",
       "      <td>2474372</td>\n",
       "      <td>4</td>\n",
       "      <td>2005-01-07\\n</td>\n",
       "    </tr>\n",
       "    <tr>\n",
       "      <th>192412</th>\n",
       "      <td>30</td>\n",
       "      <td>2050456</td>\n",
       "      <td>3</td>\n",
       "      <td>2005-01-09\\n</td>\n",
       "    </tr>\n",
       "    <tr>\n",
       "      <th>192413</th>\n",
       "      <td>30</td>\n",
       "      <td>2478187</td>\n",
       "      <td>4</td>\n",
       "      <td>2005-01-10\\n</td>\n",
       "    </tr>\n",
       "    <tr>\n",
       "      <th>192414</th>\n",
       "      <td>30</td>\n",
       "      <td>237427</td>\n",
       "      <td>2</td>\n",
       "      <td>2005-01-11\\n</td>\n",
       "    </tr>\n",
       "  </tbody>\n",
       "</table>\n",
       "<p>192415 rows × 4 columns</p>\n",
       "</div>"
      ],
      "text/plain": [
       "       movie_id customer_id rating          date\n",
       "0             1     1488844      3  2005-09-06\\n\n",
       "1             1      822109      5  2005-05-13\\n\n",
       "2             1      885013      4  2005-10-19\\n\n",
       "3             1       30878      4  2005-12-26\\n\n",
       "4             1      823519      3  2004-05-03\\n\n",
       "...         ...         ...    ...           ...\n",
       "192410       30     2590717      4  2005-01-05\\n\n",
       "192411       30     2474372      4  2005-01-07\\n\n",
       "192412       30     2050456      3  2005-01-09\\n\n",
       "192413       30     2478187      4  2005-01-10\\n\n",
       "192414       30      237427      2  2005-01-11\\n\n",
       "\n",
       "[192415 rows x 4 columns]"
      ]
     },
     "execution_count": 22,
     "metadata": {},
     "output_type": "execute_result"
    }
   ],
   "source": [
    "ratings.to_excel(\"ratings_data_final.xlsx\")"
   ]
  },
  {
   "cell_type": "code",
   "execution_count": null,
   "metadata": {},
   "outputs": [],
   "source": []
  }
 ],
 "metadata": {
  "kernelspec": {
   "display_name": "mlp",
   "language": "python",
   "name": "python3"
  },
  "language_info": {
   "codemirror_mode": {
    "name": "ipython",
    "version": 3
   },
   "file_extension": ".py",
   "mimetype": "text/x-python",
   "name": "python",
   "nbconvert_exporter": "python",
   "pygments_lexer": "ipython3",
   "version": "3.8.18"
  }
 },
 "nbformat": 4,
 "nbformat_minor": 2
}
