{
 "cells": [
  {
   "cell_type": "code",
   "execution_count": 1,
   "metadata": {},
   "outputs": [],
   "source": [
    "import numpy as np\n",
    "import pandas as pd\n",
    "import os"
   ]
  },
  {
   "cell_type": "markdown",
   "metadata": {},
   "source": [
    "# Dataset:\n",
    "\n",
    "Netflix Price Dataset: https://www.kaggle.com/datasets/netflix-inc/netflix-prize-data"
   ]
  },
  {
   "cell_type": "markdown",
   "metadata": {},
   "source": [
    "# Load Dataset\n",
    "\n",
    "using with open() to open csv file as:\n",
    "1. Deal with letters as À, É, ..., etc.\n",
    "2. Some movies habe multiple titles seperarted by commas."
   ]
  },
  {
   "cell_type": "code",
   "execution_count": 2,
   "metadata": {},
   "outputs": [],
   "source": [
    "movies_df = pd.DataFrame(columns=['id', 'year', 'title'])\n",
    "\n",
    "with open('archive/movie_titles.csv', 'rb') as file:\n",
    "    for l in file.readlines():\n",
    "        line_str = l.decode('utf-8', errors=\"ignore\")\n",
    "        columns = line_str.split(',')\n",
    "        id_val, date_val, title_val = columns[:3]\n",
    "        title_val += ', '.join(columns[3:]).strip()\n",
    "        movies_df = pd.concat([movies_df, pd.DataFrame([{'id':id_val,'year': date_val,'title':title_val}])], ignore_index=True)\n",
    "        \n",
    "movies_df.head(3)\n",
    "\n",
    "movies_df.to_excel(\"movies_data_final.xlsx\")"
   ]
  },
  {
   "cell_type": "markdown",
   "metadata": {},
   "source": [
    "## Merge all user rating into a single CSV"
   ]
  },
  {
   "cell_type": "code",
   "execution_count": 4,
   "metadata": {},
   "outputs": [
    {
     "ename": "KeyboardInterrupt",
     "evalue": "",
     "output_type": "error",
     "traceback": [
      "\u001b[0;31m---------------------------------------------------------------------------\u001b[0m",
      "\u001b[0;31mKeyboardInterrupt\u001b[0m                         Traceback (most recent call last)",
      "\u001b[1;32m/Users/himanshuchuri/Desktop/DataScience/Netflix/recomendation.ipynb Cell 6\u001b[0m line \u001b[0;36m1\n\u001b[1;32m     <a href='vscode-notebook-cell:/Users/himanshuchuri/Desktop/DataScience/Netflix/recomendation.ipynb#W5sZmlsZQ%3D%3D?line=10'>11</a>\u001b[0m \u001b[39melse\u001b[39;00m:\n\u001b[1;32m     <a href='vscode-notebook-cell:/Users/himanshuchuri/Desktop/DataScience/Netflix/recomendation.ipynb#W5sZmlsZQ%3D%3D?line=11'>12</a>\u001b[0m     cust_id, rating, date \u001b[39m=\u001b[39m f\u001b[39m.\u001b[39msplit(\u001b[39m'\u001b[39m\u001b[39m,\u001b[39m\u001b[39m'\u001b[39m)\n\u001b[0;32m---> <a href='vscode-notebook-cell:/Users/himanshuchuri/Desktop/DataScience/Netflix/recomendation.ipynb#W5sZmlsZQ%3D%3D?line=12'>13</a>\u001b[0m     ratings \u001b[39m=\u001b[39m pd\u001b[39m.\u001b[39mconcat([ratings, pd\u001b[39m.\u001b[39mDataFrame([{\u001b[39m'\u001b[39m\u001b[39mmovie_id\u001b[39m\u001b[39m'\u001b[39m:movie_id,\u001b[39m'\u001b[39m\u001b[39mcustomer_id\u001b[39m\u001b[39m'\u001b[39m:cust_id,\u001b[39m'\u001b[39m\u001b[39mrating\u001b[39m\u001b[39m'\u001b[39m:rating,\u001b[39m'\u001b[39m\u001b[39mdate\u001b[39m\u001b[39m'\u001b[39m:date[:\u001b[39m-\u001b[39m\u001b[39m1\u001b[39m]}])], ignore_index\u001b[39m=\u001b[39m\u001b[39mTrue\u001b[39;00m)\n",
      "\u001b[0;31mKeyboardInterrupt\u001b[0m: "
     ]
    }
   ],
   "source": [
    "path = \"/Users/himanshuchuri/Desktop/DataScience/Netflix/archive/\"\n",
    "\n",
    "ratings = pd.DataFrame(columns=['movie_id','customer_id','rating','date'])\n",
    "\n",
    "movie_id = 0\n",
    "for file in ['combined_data_1.txt','combined_data_2.txt','combined_data_3.txt','combined_data_4.txt','combined_data_4.txt']:\n",
    "    with open(path+file) as of:\n",
    "        for f in of.readlines():\n",
    "            if f.endswith(':\\n'):\n",
    "                movie_id = f[:-2]\n",
    "            else:\n",
    "                cust_id, rating, date = f.split(',')\n",
    "                ratings = pd.concat([ratings, pd.DataFrame([{'movie_id':movie_id,'customer_id':cust_id,'rating':rating,'date':date[:-1]}])], ignore_index=True)\n"
   ]
  },
  {
   "cell_type": "code",
   "execution_count": 5,
   "metadata": {},
   "outputs": [
    {
     "data": {
      "text/plain": [
       "1893847"
      ]
     },
     "execution_count": 5,
     "metadata": {},
     "output_type": "execute_result"
    }
   ],
   "source": [
    "#ratings.to_excel(\"ratings_data_final.xlsx\")\n",
    "len(ratings)"
   ]
  },
  {
   "cell_type": "code",
   "execution_count": null,
   "metadata": {},
   "outputs": [],
   "source": []
  }
 ],
 "metadata": {
  "kernelspec": {
   "display_name": "mlp",
   "language": "python",
   "name": "python3"
  },
  "language_info": {
   "codemirror_mode": {
    "name": "ipython",
    "version": 3
   },
   "file_extension": ".py",
   "mimetype": "text/x-python",
   "name": "python",
   "nbconvert_exporter": "python",
   "pygments_lexer": "ipython3",
   "version": "3.8.18"
  }
 },
 "nbformat": 4,
 "nbformat_minor": 2
}
